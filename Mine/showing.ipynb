{
 "cells": [
  {
   "cell_type": "code",
   "execution_count": 1,
   "metadata": {},
   "outputs": [],
   "source": [
    "import numpy as np\n",
    "# from PIL import Image  #import scipy.misc\n",
    "# from ISR.models import RDN, RRDN\n",
    "import cv2 as cv\n",
    "import os.path\n",
    "import sys\n",
    "# import tensorflow as tf\n",
    "#from numba import cuda\n",
    "import matplotlib.pyplot as plt"
   ]
  },
  {
   "cell_type": "code",
   "execution_count": 17,
   "metadata": {},
   "outputs": [
    {
     "data": {
      "text/plain": [
       "1"
      ]
     },
     "execution_count": 17,
     "metadata": {},
     "output_type": "execute_result"
    }
   ],
   "source": [
    "pathimg= \"E:\\SR Pytorch version\\DATA\\output\\cropNORM_x4_SR.png\"\n",
    "\n",
    "if not os.path.isfile(pathimg):\n",
    "    #ignore if no such file is present.\n",
    "    print(\"***File Not Founded***\")\n",
    "    pass\n",
    "img = cv.imread(pathimg, -1)\n",
    "img.max()"
   ]
  },
  {
   "cell_type": "code",
   "execution_count": 18,
   "metadata": {},
   "outputs": [
    {
     "data": {
      "image/png": "[encoded data removed]",
      "text/plain": [
       "<Figure size 432x288 with 1 Axes>"
      ]
     },
     "metadata": {
      "needs_background": "light"
     },
     "output_type": "display_data"
    }
   ],
   "source": [
    "imgplot = plt.imshow(img)\n",
    "#imgplot = plt.imshow(imgNorm)\n",
    "plt.show()"
   ]
  },
  {
   "cell_type": "code",
   "execution_count": null,
   "metadata": {},
   "outputs": [],
   "source": []
  }
 ],
 "metadata": {
  "kernelspec": {
   "display_name": "Python 3.8.12 ('CCC')",
   "language": "python",
   "name": "python3"
  },
  "language_info": {
   "codemirror_mode": {
    "name": "ipython",
    "version": 3
   },
   "file_extension": ".py",
   "mimetype": "text/x-python",
   "name": "python",
   "nbconvert_exporter": "python",
   "pygments_lexer": "ipython3",
   "version": "3.8.12"
  },
  "orig_nbformat": 4,
  "vscode": {
   "interpreter": {
    "hash": "d8f857dfadabc4e67adbd864d09b537e7c9bc4f949e52451e34ace30ba66f67e"
   }
  }
 },
 "nbformat": 4,
 "nbformat_minor": 2
}
