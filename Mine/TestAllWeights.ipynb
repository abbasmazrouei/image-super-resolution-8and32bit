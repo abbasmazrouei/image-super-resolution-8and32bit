{
 "cells": [
  {
   "cell_type": "code",
   "execution_count": 11,
   "metadata": {},
   "outputs": [],
   "source": [
    "import numpy as np\n",
    "from PIL import Image  #import scipy.misc\n",
    "from ISR.models import RDN, RRDN\n",
    "import cv2 as cv\n",
    "import os.path\n",
    "import sys\n",
    "import tensorflow as tf"
   ]
  },
  {
   "cell_type": "code",
   "execution_count": 5,
   "metadata": {},
   "outputs": [
    {
     "data": {
      "text/plain": [
       "490389.84"
      ]
     },
     "execution_count": 5,
     "metadata": {},
     "output_type": "execute_result"
    }
   ],
   "source": [
    "pathimg= r\"D:\\A.mazrouei\\A.mazrouei-Cargo\\new Test 3-7-22\\HighImageMain.tiff\"\n",
    "\n",
    "if not os.path.isfile(pathimg):\n",
    "    #ignore if no such file is present.\n",
    "    print(\"***File Not Founded***\")\n",
    "    pass\n",
    "img = cv.imread(pathimg, -1)\n",
    "img.max()\n"
   ]
  },
  {
   "cell_type": "code",
   "execution_count": 6,
   "metadata": {},
   "outputs": [],
   "source": [
    "# imgTH = cv.threshold(img,1000,1, cv.THRESH_BINARY_INV)\n",
    "# imgMult = cv.multiply(img, imgTH[1])\n",
    "# BinayMask = (imgMult + 1000 * (1 - imgTH[1]))"
   ]
  },
  {
   "cell_type": "code",
   "execution_count": 7,
   "metadata": {},
   "outputs": [],
   "source": [
    "imgNorm = cv.normalize(img, None, 0.0, 1.0, norm_type=cv.NORM_MINMAX, dtype=cv.CV_32F)\n",
    "iRGB = cv.cvtColor(imgNorm, cv.COLOR_GRAY2BGR)\n",
    "#dimensionz = img.shape[:]"
   ]
  },
  {
   "cell_type": "code",
   "execution_count": 8,
   "metadata": {},
   "outputs": [],
   "source": [
    "rdnNoise = RDN(c_dim=3,weights='noise-cancel')\n",
    "# rdnGan = RRDN(c_dim=3,weights='gans')\n",
    "# rdnPsnrs = RDN(c_dim=3,weights='psnr-small')\n",
    "# rdnPsnrl = RDN(c_dim=3,weights='psnr-large')\n"
   ]
  },
  {
   "cell_type": "code",
   "execution_count": 12,
   "metadata": {},
   "outputs": [
    {
     "name": "stdout",
     "output_type": "stream",
     "text": [
      "Physical devices cannot be modified after being initialized\n"
     ]
    }
   ],
   "source": [
    "gpus = tf.config.experimental.list_physical_devices('GPU')\n",
    "if gpus:\n",
    "    try:\n",
    "        # Restrict TensorFlow to only use the fourth GPU\n",
    "        tf.config.experimental.set_visible_devices(gpus[0], 'GPU')\n",
    "\n",
    "        # Currently, memory growth needs to be the same across GPUs\n",
    "        for gpu in gpus:\n",
    "            tf.config.experimental.set_memory_growth(gpu, True)\n",
    "        logical_gpus = tf.config.experimental.list_logical_devices('GPU')\n",
    "        print(len(gpus), \"Physical GPUs,\", len(logical_gpus), \"Logical GPUs\")\n",
    "    except RuntimeError as e:\n",
    "        # Memory growth must be set before GPUs have been initialized\n",
    "        print(e)"
   ]
  },
  {
   "cell_type": "code",
   "execution_count": 14,
   "metadata": {},
   "outputs": [],
   "source": [
    "\n",
    "sr_img = rdnNoise.predict(iRGB, by_patch_of_size=50) \n",
    "# sr_img2 = rdn.predict(iRGB2, by_patch_of_size=200)"
   ]
  },
  {
   "cell_type": "code",
   "execution_count": 15,
   "metadata": {},
   "outputs": [],
   "source": [
    "# grayGAN2 = cv.cvtColor(sr_img2, cv.COLOR_BGR2GRAY)\n",
    "# imgMulti = cv.multiply(img, grayGAN2[1])\n",
    "# imgNorm2 = cv.normalize(sr_img2, None, 0.0, 4294967295, norm_type=cv.NORM_MINMAX, dtype=cv.CV_32F)"
   ]
  },
  {
   "cell_type": "code",
   "execution_count": 16,
   "metadata": {},
   "outputs": [
    {
     "name": "stdout",
     "output_type": "stream",
     "text": [
      "Inputed link: D:\\A.mazrouei\\A.mazrouei-Cargo\\new Test 3-7-22\\HighImageMain.tiff\n",
      "Shape Of Output Image: (3074, 6236)\n"
     ]
    }
   ],
   "source": [
    "grayGAN = cv.cvtColor(sr_img, cv.COLOR_BGR2GRAY)\n",
    "dimensionzGAN = grayGAN.shape[:]\n",
    "cv.imwrite(os.path.join(\"D:/A.mazrouei/A.mazrouei-Cargo/new Test 3-7-22\" , 'noisecanc.tiff'), grayGAN)\n",
    "\n",
    "print(\"Inputed link:\", pathimg)\n",
    "#print(\"Shape Of Input Image:\", dimensionz2)\n",
    "print(\"Shape Of Output Image:\", dimensionzGAN)"
   ]
  },
  {
   "cell_type": "code",
   "execution_count": null,
   "metadata": {},
   "outputs": [],
   "source": []
  }
 ],
 "metadata": {
  "kernelspec": {
   "display_name": "Python 3.6.12 ('cargogpu')",
   "language": "python",
   "name": "python3"
  },
  "language_info": {
   "codemirror_mode": {
    "name": "ipython",
    "version": 3
   },
   "file_extension": ".py",
   "mimetype": "text/x-python",
   "name": "python",
   "nbconvert_exporter": "python",
   "pygments_lexer": "ipython3",
   "version": "3.6.12"
  },
  "orig_nbformat": 4,
  "vscode": {
   "interpreter": {
    "hash": "c46aba5badc349de9f7a327b3e864f1afb175b1acf9156baa61d615303c201ae"
   }
  }
 },
 "nbformat": 4,
 "nbformat_minor": 2
}
